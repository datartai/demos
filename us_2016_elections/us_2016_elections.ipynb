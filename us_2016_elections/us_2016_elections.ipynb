{
 "cells": [
  {
   "cell_type": "code",
   "execution_count": 1,
   "metadata": {
    "collapsed": false
   },
   "outputs": [
    {
     "data": {
      "text/html": [
       "\n",
       "    <div class=\"bk-banner\">\n",
       "        <a href=\"http://bokeh.pydata.org\" target=\"_blank\" class=\"bk-logo bk-logo-small bk-logo-notebook\"></a>\n",
       "        <span id=\"20b411df-e431-4dd4-b4b4-2c1610dad7fa\">Loading BokehJS ...</span>\n",
       "    </div>"
      ]
     },
     "metadata": {},
     "output_type": "display_data"
    },
    {
     "data": {
      "application/javascript": [
       "\n",
       "(function(global) {\n",
       "  function now() {\n",
       "    return new Date();\n",
       "  }\n",
       "\n",
       "  if (typeof (window._bokeh_onload_callbacks) === \"undefined\") {\n",
       "    window._bokeh_onload_callbacks = [];\n",
       "  }\n",
       "\n",
       "  function run_callbacks() {\n",
       "    window._bokeh_onload_callbacks.forEach(function(callback) { callback() });\n",
       "    delete window._bokeh_onload_callbacks\n",
       "    console.info(\"Bokeh: all callbacks have finished\");\n",
       "  }\n",
       "\n",
       "  function load_libs(js_urls, callback) {\n",
       "    window._bokeh_onload_callbacks.push(callback);\n",
       "    if (window._bokeh_is_loading > 0) {\n",
       "      console.log(\"Bokeh: BokehJS is being loaded, scheduling callback at\", now());\n",
       "      return null;\n",
       "    }\n",
       "    if (js_urls == null || js_urls.length === 0) {\n",
       "      run_callbacks();\n",
       "      return null;\n",
       "    }\n",
       "    console.log(\"Bokeh: BokehJS not loaded, scheduling load and callback at\", now());\n",
       "    window._bokeh_is_loading = js_urls.length;\n",
       "    for (var i = 0; i < js_urls.length; i++) {\n",
       "      var url = js_urls[i];\n",
       "      var s = document.createElement('script');\n",
       "      s.src = url;\n",
       "      s.async = false;\n",
       "      s.onreadystatechange = s.onload = function() {\n",
       "        window._bokeh_is_loading--;\n",
       "        if (window._bokeh_is_loading === 0) {\n",
       "          console.log(\"Bokeh: all BokehJS libraries loaded\");\n",
       "          run_callbacks()\n",
       "        }\n",
       "      };\n",
       "      s.onerror = function() {\n",
       "        console.warn(\"failed to load library \" + url);\n",
       "      };\n",
       "      console.log(\"Bokeh: injecting script tag for BokehJS library: \", url);\n",
       "      document.getElementsByTagName(\"head\")[0].appendChild(s);\n",
       "    }\n",
       "  };\n",
       "\n",
       "  var js_urls = ['https://cdn.pydata.org/bokeh/release/bokeh-0.11.1.min.js', 'https://cdn.pydata.org/bokeh/release/bokeh-widgets-0.11.1.min.js', 'https://cdn.pydata.org/bokeh/release/bokeh-compiler-0.11.1.min.js'];\n",
       "\n",
       "  var inline_js = [\n",
       "    function(Bokeh) {\n",
       "      Bokeh.set_log_level(\"info\");\n",
       "    },\n",
       "    \n",
       "    function(Bokeh) {\n",
       "      Bokeh.$(\"#20b411df-e431-4dd4-b4b4-2c1610dad7fa\").text(\"BokehJS successfully loaded\");\n",
       "    },\n",
       "    function(Bokeh) {\n",
       "      console.log(\"Bokeh: injecting CSS: https://cdn.pydata.org/bokeh/release/bokeh-0.11.1.min.css\");\n",
       "      Bokeh.embed.inject_css(\"https://cdn.pydata.org/bokeh/release/bokeh-0.11.1.min.css\");\n",
       "      console.log(\"Bokeh: injecting CSS: https://cdn.pydata.org/bokeh/release/bokeh-widgets-0.11.1.min.css\");\n",
       "      Bokeh.embed.inject_css(\"https://cdn.pydata.org/bokeh/release/bokeh-widgets-0.11.1.min.css\");\n",
       "    }\n",
       "  ];\n",
       "\n",
       "  function run_inline_js() {\n",
       "    for (var i = 0; i < inline_js.length; i++) {\n",
       "      inline_js[i](window.Bokeh);\n",
       "    }\n",
       "  }\n",
       "\n",
       "  if (window._bokeh_is_loading === 0) {\n",
       "    console.log(\"Bokeh: BokehJS loaded, going straight to plotting\");\n",
       "    run_inline_js();\n",
       "  } else {\n",
       "    load_libs(js_urls, function() {\n",
       "      console.log(\"Bokeh: BokehJS plotting callback run at\", now());\n",
       "      run_inline_js();\n",
       "    });\n",
       "  }\n",
       "}(this));"
      ]
     },
     "metadata": {},
     "output_type": "display_data"
    }
   ],
   "source": [
    "import pandas as pd\n",
    "import numpy as np\n",
    "import pystan\n",
    "import warnings\n",
    "from bokeh.io import output_notebook\n",
    "from bokeh.plotting import figure, show\n",
    "from bokeh.models import Span\n",
    "\n",
    "output_notebook()\n",
    "warnings.filterwarnings(\"ignore\")"
   ]
  },
  {
   "cell_type": "markdown",
   "metadata": {},
   "source": [
    "## Prepare poll data"
   ]
  },
  {
   "cell_type": "code",
   "execution_count": 2,
   "metadata": {
    "collapsed": false
   },
   "outputs": [
    {
     "name": "stdout",
     "output_type": "stream",
     "text": [
      "(51, 153, 153, 808)\n"
     ]
    }
   ],
   "source": [
    "df = pd.read_csv('data/president_general_polls_2016.csv')\n",
    "polls = df[['pollster', 'grade', 'state', 'createddate', 'samplesize', 'rawpoll_trump', 'rawpoll_clinton']]\n",
    "polls.createddate = pd.to_datetime(polls.createddate)\n",
    "\n",
    "pc = ['AL', 'AK', 'AZ', 'AR', 'CA', 'CO', 'CT', 'DE', 'DC', 'FL', 'GA', 'HI', 'ID', 'IL', 'IN', 'IA', 'KS', \n",
    "      'KY', 'LA', 'ME', 'MD', 'MA', 'MI', 'MN', 'MS', 'MO', 'MT', 'NE', 'NV', 'NH', 'NJ', 'NM', 'NY', 'NC', \n",
    "      'ND', 'OH', 'OK', 'OR', 'PA', 'RI', 'SC', 'SD', 'TN', 'TX', 'UT', 'VT', 'VA', 'WA', 'WV', 'WI', 'WY']\n",
    "\n",
    "nb_voters = [2074338,301694,2323579,1078548,13202158,2596173,1560640,413921,294254,8538264,3919355,437159,666290,\n",
    "             5279752,2663368,1589951,1182771,1815843,2014548,724758,2734062,3184196,4780701,2950780,1285584,\n",
    "             2757323,491966,804245,1016664,718700,3683638,786522,7128852,4542488,325564,5632423,1334872,1820507,\n",
    "             5742040,446049,1981516,368270,2478870,7993851,1028786,301793,3888186,3172939,670438,3068434,250701]\n",
    "\n",
    "nb_electors = [9, 3, 11, 6, 55, 9, 7, 3, 3, 29, 16, 4, 4, 20, 11, 6, 6, 8, 8, 4, 10, 11, 16, 10, 6, 10, 3, 5, 6, \n",
    "               4, 14, 5, 29, 15, 3, 18, 7, 7, 20, 4, 9, 3, 11, 38, 6, 3, 13, 12, 5, 10, 3]\n",
    "\n",
    "states = sorted(list(set(df.state.values)))\n",
    "to_remove = ['U.S.', 'Nebraska CD-1', 'Nebraska CD-2', 'Nebraska CD-3', 'Maine CD-1', 'Maine CD-2']\n",
    "for s in to_remove: states.remove(s)\n",
    "polls = polls[polls.state.isin(states)]\n",
    "\n",
    "polls.dropna(inplace=True)\n",
    "grades = ['A+', 'A', 'A-', 'B+', 'B', 'B-', 'C+', 'C', 'C-',  'D']\n",
    "polls.grade = polls.grade.apply(lambda x: 10 - grades.index(x))\n",
    "\n",
    "polls.samplesize = polls.samplesize.astype(np.int32)\n",
    "polls['trump'] = (polls.samplesize*polls.rawpoll_trump/100).astype(np.int32)\n",
    "polls['clinton'] = (polls.samplesize*polls.rawpoll_clinton/100).astype(np.int32)\n",
    "polls['independent'] = (polls.samplesize - (polls.clinton + polls.trump))\n",
    "\n",
    "polls.drop_duplicates(inplace=True)\n",
    "\n",
    "aux = polls[polls.createddate >= pd.to_datetime('2016/11/01')]\n",
    "polls_b1_lw = aux.sort('grade', ascending=False).groupby('state', as_index=False).nth(list(range(1)))\n",
    "\n",
    "aux = polls[polls.createddate > pd.to_datetime('2016/10/07')]\n",
    "polls_b3_lm = aux.sort('grade', ascending=False).groupby('state', as_index=False).nth(list(range(3)))\n",
    "\n",
    "aux = polls.copy()\n",
    "polls_b3 = aux.sort('grade', ascending=False).groupby('state', as_index=False).nth(list(range(3)))\n",
    "\n",
    "polls_all_lw = polls[polls.createddate >= pd.to_datetime('2016/11/01')]\n",
    "\n",
    "print(len(polls_b1_lw), len(polls_b3_lm), len(polls_b3), len(polls_all_lw))\n",
    "\n",
    "polls = {\n",
    "    'best_last_week': {\n",
    "        'votes': polls_b1_lw[['trump', 'clinton', 'independent']].values, \n",
    "        'states': np.array([states.index(s) for s in polls_b1_lw.state.values])\n",
    "    },\n",
    "    'best3_last_month': {\n",
    "        'votes': polls_b3_lm[['trump', 'clinton', 'independent']].values, \n",
    "        'states': np.array([states.index(s) for s in polls_b3_lm.state.values])\n",
    "    },\n",
    "    'best3': {\n",
    "        'votes': polls_b3[['trump', 'clinton', 'independent']].values, \n",
    "        'states': np.array([states.index(s) for s in polls_b3.state.values])\n",
    "    },\n",
    "    'all_last_week': {\n",
    "        'votes': polls_all_lw[['trump', 'clinton', 'independent']].values, \n",
    "        'states': np.array([states.index(s) for s in polls_all_lw.state.values])\n",
    "    }\n",
    "}"
   ]
  },
  {
   "cell_type": "markdown",
   "metadata": {},
   "source": [
    "# Stan model"
   ]
  },
  {
   "cell_type": "code",
   "execution_count": null,
   "metadata": {
    "collapsed": false,
    "scrolled": false
   },
   "outputs": [],
   "source": [
    "code = '''\n",
    "data {\n",
    "    int nb_polls; // Number of polls\n",
    "    int nb_states; // Number of states (51 because of D.C.)\n",
    "    int nb_candidates; // Number of candidates (3: Trump, Clinton, Ind.)\n",
    "    int polls_states[nb_polls]; // Poll -> state map\n",
    "    int votes[nb_polls, nb_candidates]; // Polled votes for each candidate\n",
    "    int nb_voters[nb_states]; // Number of voters for forecasting\n",
    "    real bias; // Polling bias\n",
    "}\n",
    "parameters {\n",
    "    simplex[nb_candidates] theta[nb_states]; //1 - Trump, 2 - Clinton, 3 - Ind.\n",
    "    vector[nb_candidates] alpha;\n",
    "}\n",
    "model {\n",
    "    for(c in 1:nb_candidates)\n",
    "        alpha[c] ~ uniform(0, 1000); // Weakly informative hyperprior\n",
    "\n",
    "    for(s in 1:nb_states)\n",
    "        theta[s] ~ dirichlet(alpha); // Dirichlet prior per state\n",
    "\n",
    "    for(p in 1:nb_polls) // Multinomial observations (polled values)\n",
    "        votes[p] ~ multinomial(theta[polls_states[p]]);\n",
    "}\n",
    "generated quantities {\n",
    "    int votes_pred[nb_states, nb_candidates]; // Predicted number of votes on election day\n",
    "    real epsilon[nb_states]; // Bias random variable\n",
    "    simplex[nb_candidates] theta_bias[nb_states]; // Biased voting intentions\n",
    "\n",
    "    // The deltas below are used to ensure that the biased thetas form a valid simplex\n",
    "    real delta_t[nb_states];\n",
    "    real delta_h[nb_states];\n",
    "    real delta[nb_states];\n",
    "\n",
    "    for(s in 1:nb_states) {\n",
    "        if(bias == 0.0)\n",
    "            epsilon[s] <- 0.0;\n",
    "        else\n",
    "            epsilon[s] <- uniform_rng(0, bias); // Bias value for this state\n",
    "\n",
    "        // We must ensure that theta will remain a valid probability simplex,\n",
    "        // so we limit delta in a way theta will never be below 0 or above 1\n",
    "        delta_t[s] <- fabs(theta[s][1] - fmax(0.0, fmin(1.0, theta[s][1] + epsilon[s])));\n",
    "        delta_h[s] <- fabs(theta[s][2] - fmin(1.0, fmax(0.0, theta[s][2] - epsilon[s])));\n",
    "        delta[s] <- fmin(delta_t[s], delta_h[s]);\n",
    "\n",
    "        theta_bias[s][1] <- theta[s][1] + delta[s];\n",
    "        theta_bias[s][2] <- theta[s][2] - delta[s];\n",
    "        theta_bias[s][3] <- theta[s][3];\n",
    "\n",
    "        votes_pred[s] <- multinomial_rng(theta_bias[s], nb_voters[s]);\n",
    "    }\n",
    "}\n",
    "'''\n",
    "\n",
    "model = pystan.StanModel(model_code=code)"
   ]
  },
  {
   "cell_type": "markdown",
   "metadata": {},
   "source": [
    "# Forecast with different biases"
   ]
  },
  {
   "cell_type": "code",
   "execution_count": null,
   "metadata": {
    "collapsed": false
   },
   "outputs": [],
   "source": [
    "winners = []\n",
    "biases = np.linspace(0.0, 0.05, 20)\n",
    "for b in biases:\n",
    "    data = {\n",
    "        'nb_states': 51,\n",
    "        'nb_candidates': 3,\n",
    "        'nb_polls': len(polls['best_last_week']['votes']),\n",
    "        'polls_states': polls['best_last_week']['states']+1,\n",
    "        'votes': polls['best_last_week']['votes'],\n",
    "        'nb_voters': nb_voters,\n",
    "        'bias': b\n",
    "    }\n",
    "    \n",
    "    fit = model.sampling(data=data, iter=10000, thin=2, chains=4, seed=0)\n",
    "    trace = fit.extract()\n",
    "    winner = []\n",
    "    for election_sample in trace['votes_pred']:\n",
    "        cnts = np.zeros(3)\n",
    "        for s, tci in enumerate(election_sample):\n",
    "            cnts[tci.argmax()] += nb_electors[s]\n",
    "        if cnts.max() >= 270:\n",
    "            winner.append(cnts.argmax())\n",
    "        else:\n",
    "            winner.append(-1)\n",
    "    winners.append(np.histogram(winner, bins=3)[0]/float(len(winner)))\n",
    "winners = np.array(winners)"
   ]
  },
  {
   "cell_type": "code",
   "execution_count": null,
   "metadata": {
    "collapsed": false
   },
   "outputs": [],
   "source": [
    "p = figure(title=\"Polling bias influence on forecast\", plot_height=400, plot_width=550, x_range=(0, 5), y_range=(0, 100))\n",
    "p.line(biases*100, winners[:, 1]*100, line_width=3, color='red', legend='Trump')\n",
    "p.line(biases*100, winners[:, 2]*100, line_width=3, color='blue', legend='Clinton')\n",
    "p.line(biases*100, winners[:, 0]*100, line_width=3, color='green', legend='Neither')\n",
    "p.title.align = 'center'\n",
    "\n",
    "intersec = Span(location=2.004, dimension='height', line_color='black', line_dash='dashed', line_width=1)\n",
    "p.add_layout(intersec)\n",
    "p.legend.location = 'right_center'\n",
    "p.xaxis[0].axis_label = 'Trump favorable bias (%)'\n",
    "p.yaxis[0].axis_label = 'Probability of winning (%)'\n",
    "show(p)"
   ]
  },
  {
   "cell_type": "code",
   "execution_count": null,
   "metadata": {
    "collapsed": true
   },
   "outputs": [],
   "source": []
  }
 ],
 "metadata": {
  "kernelspec": {
   "display_name": "Python 2",
   "language": "python",
   "name": "python2"
  },
  "language_info": {
   "codemirror_mode": {
    "name": "ipython",
    "version": 2
   },
   "file_extension": ".py",
   "mimetype": "text/x-python",
   "name": "python",
   "nbconvert_exporter": "python",
   "pygments_lexer": "ipython2",
   "version": "2.7.11"
  }
 },
 "nbformat": 4,
 "nbformat_minor": 1
}
